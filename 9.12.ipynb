{
 "cells": [
  {
   "cell_type": "markdown",
   "metadata": {},
   "source": [
    "# 数学函数、字符串和对象\n",
    "## 本章介绍Python函数来执行常见的数学运算\n",
    "- 函数是完成一个特殊任务的一组语句，可以理解为一个函数相当于一个小功能，但是在开发中，需要注意一个函数的长度最好不要超过一屏\n",
    "- Python中的内置函数是不需要Import导入的\n",
    "<img src=\"../Photo/15.png\"></img>"
   ]
  },
  {
   "cell_type": "code",
   "execution_count": 13,
   "metadata": {},
   "outputs": [
    {
     "name": "stdout",
     "output_type": "stream",
     "text": [
      "a=1\n",
      "b=2\n",
      "c=4\n",
      "请选择你要执行的方式：max，min，pow_summax\n",
      "4\n"
     ]
    }
   ],
   "source": [
    "a = eval(input('a='))\n",
    "b = eval(input('b='))\n",
    "c = eval(input('c='))\n",
    "choose_method = input('请选择你要执行的方式：max，min，pow_sum')\n",
    "if choose_method == 'max':\n",
    "    max_ = max(a,b,c)\n",
    "    print(max_)\n",
    "elif choose_method == 'min':\n",
    "    min_ = min(a,b,c)\n",
    "    print(min_)\n",
    "elif choose_method == 'pow_sum':\n",
    "    pow_sum_ = pow(a,2) + pow(b,2) + pow(c,2)\n",
    "    print(pow_sum_)\n",
    "\n",
    "    \n",
    "        "
   ]
  },
  {
   "cell_type": "markdown",
   "metadata": {},
   "source": [
    "## 尝试练习Python内置函数"
   ]
  },
  {
   "cell_type": "markdown",
   "metadata": {},
   "source": [
    "## Python中的math模块提供了许多数学函数\n",
    "<img src=\"../Photo/16.png\"></img>\n",
    "<img src=\"../Photo/17.png\"></img>\n"
   ]
  },
  {
   "cell_type": "code",
   "execution_count": 98,
   "metadata": {},
   "outputs": [
    {
     "ename": "IndentationError",
     "evalue": "unexpected indent (<ipython-input-98-b07a7daa1ed8>, line 2)",
     "output_type": "error",
     "traceback": [
      "\u001b[1;36m  File \u001b[1;32m\"<ipython-input-98-b07a7daa1ed8>\"\u001b[1;36m, line \u001b[1;32m2\u001b[0m\n\u001b[1;33m    random_sum = random.random()\u001b[0m\n\u001b[1;37m    ^\u001b[0m\n\u001b[1;31mIndentationError\u001b[0m\u001b[1;31m:\u001b[0m unexpected indent\n"
     ]
    }
   ],
   "source": [
    "import random\n",
    " random_sum = random.random()\n",
    "    res = 1. / (1. + math.exp(-random_sum))\n",
    "    round(res)\n",
    "a = eval(input('a='))\n",
    "b = eval(input('b='))\n",
    "c = eval(input('c='))\n",
    "choose_method = input('请选择你要执行的方式：max，min，pow_sum')\n",
    "if choose_method == 'max':\n",
    "    max_ = max(a,b,c)\n",
    "    print(max_)\n",
    "elif choose_method == 'min':\n",
    "    min_ = min(a,b,c)\n",
    "    print(min_)\n",
    "elif choose_method == 'pow_sum':\n",
    "    pow_sum_ = pow(a,2) + pow(b,2) + pow(c,2)\n",
    "    print(pow_sum_)"
   ]
  },
  {
   "cell_type": "code",
   "execution_count": null,
   "metadata": {},
   "outputs": [],
   "source": []
  },
  {
   "cell_type": "markdown",
   "metadata": {},
   "source": [
    "## 两个数学常量PI和e，可以通过使用math.pi 和math.e调用"
   ]
  },
  {
   "cell_type": "markdown",
   "metadata": {},
   "source": [
    "## EP:\n",
    "- 通过math库，写一个程序，使得用户输入三个顶点(x,y)返回三个角度\n",
    "- 注意：Python计算角度为弧度制，需要将其转换为角度\n",
    "i<img src=\"../Photo/18.png\">"
   ]
  },
  {
   "cell_type": "code",
   "execution_count": null,
   "metadata": {},
   "outputs": [],
   "source": [
    "import math\n",
    "x1,y1,x2,y2,x3,y3=eval(input('输入三个顶点'))\n",
    "a=math.sqrt((x2-x3)**2*(y2-y3)**2)\n",
    "b=math.sqrt((x1-x3)**2*(y1-y3)**2)\n",
    "c=math.sqrt((x1-x2)**2*(y1-y2)**2)\n",
    "A = math.acos((a * a - b * b - c * c)/(-2 * b * c))\n",
    "B = math.acos((b * b - a * a - c * c)/(-2 * a * c))\n",
    "C = math.acos((c * c - b * b - a * a)/(-2 * a * b))\n",
    "print(round(math.degrees(A)),round(math.degrees(A)),round(math.degrees(A)))"
   ]
  },
  {
   "cell_type": "markdown",
   "metadata": {},
   "source": [
    "## 字符串和字符\n",
    "- 在Python中，字符串必须是在单引号或者双引号内，在多段换行的字符串中可以使用“”“\n",
    "- 在使用”“”时，给予其变量则变为字符串，否则当多行注释使用"
   ]
  },
  {
   "cell_type": "markdown",
   "metadata": {},
   "source": [
    "## ASCII码与Unicode码\n",
    "- <img src=\"../Photo/19.png\"></img>\n",
    "- <img src=\"../Photo/20.png\"></img>\n",
    "- <img src=\"../Photo/21.png\"></img>"
   ]
  },
  {
   "cell_type": "markdown",
   "metadata": {},
   "source": [
    "## 函数ord、chr\n",
    "- ord 返回ASCII码值\n",
    "- chr 返回字符"
   ]
  },
  {
   "cell_type": "code",
   "execution_count": null,
   "metadata": {},
   "outputs": [],
   "source": []
  },
  {
   "cell_type": "markdown",
   "metadata": {},
   "source": [
    "## EP:\n",
    "- 利用ord与chr进行简单邮箱加密"
   ]
  },
  {
   "cell_type": "code",
   "execution_count": 1,
   "metadata": {},
   "outputs": [
    {
     "name": "stdout",
     "output_type": "stream",
     "text": [
      "6789:>\n"
     ]
    }
   ],
   "source": [
    "mm = '123459'\n",
    "result = ''\n",
    "for i in mm:\n",
    "    result = result + chr(ord(i) + 5)\n",
    "print(result)"
   ]
  },
  {
   "cell_type": "markdown",
   "metadata": {},
   "source": [
    "## 转义序列 \\\n",
    "- a = \"He said,\"Johon's program is easy to read\"\n",
    "- 转掉它原来的意思\n",
    "- 一般情况下只有当语句与默认方法相撞的时候，就需要转义"
   ]
  },
  {
   "cell_type": "code",
   "execution_count": 5,
   "metadata": {},
   "outputs": [
    {
     "name": "stdout",
     "output_type": "stream",
     "text": [
      "nihao\n",
      "194ce5d0b89c47ff6b30bfb491f9dc26\n"
     ]
    }
   ],
   "source": [
    "import hashlib\n",
    "datebase = '6c90e5171bfdc3c62ce8925898e0db2d'\n",
    "mm = input()\n",
    "m = hashlib.md5()\n",
    "m.update(mm.encode(encoding='utf-8'))\n",
    "print(m.hexdigest())\n",
    "if m.hexdigest == datebase:\n",
    "    print('zq')"
   ]
  },
  {
   "cell_type": "markdown",
   "metadata": {},
   "source": [
    "## 高级print\n",
    "- 参数 end： 以什么方式结束打印\n",
    "- 默认换行打印"
   ]
  },
  {
   "cell_type": "code",
   "execution_count": 32,
   "metadata": {},
   "outputs": [
    {
     "name": "stdout",
     "output_type": "stream",
     "text": [
      "ab."
     ]
    }
   ],
   "source": [
    "print('a','b',sep='',end='.')"
   ]
  },
  {
   "cell_type": "markdown",
   "metadata": {},
   "source": [
    "## 函数str\n",
    "- 将类型强制转换成字符串类型\n",
    "- 其他一些以后会学到(list,set,tuple...)"
   ]
  },
  {
   "cell_type": "markdown",
   "metadata": {},
   "source": [
    "## 字符串连接操作\n",
    "- 直接使用 “+” \n",
    "- join() 函数 "
   ]
  },
  {
   "cell_type": "code",
   "execution_count": 38,
   "metadata": {},
   "outputs": [
    {
     "name": "stdout",
     "output_type": "stream",
     "text": [
      "Wall time: 0 ns\n"
     ]
    },
    {
     "data": {
      "text/plain": [
       "'1!2!3!4'"
      ]
     },
     "execution_count": 38,
     "metadata": {},
     "output_type": "execute_result"
    }
   ],
   "source": [
    "% time '!'.join(['1','2','3','4'])"
   ]
  },
  {
   "cell_type": "code",
   "execution_count": 39,
   "metadata": {},
   "outputs": [
    {
     "name": "stdout",
     "output_type": "stream",
     "text": [
      "Wall time: 0 ns\n"
     ]
    },
    {
     "data": {
      "text/plain": [
       "'1!2!0'"
      ]
     },
     "execution_count": 39,
     "metadata": {},
     "output_type": "execute_result"
    }
   ],
   "source": [
    "%time '1' + '!' +'2' + '!'"
   ]
  },
  {
   "cell_type": "markdown",
   "metadata": {},
   "source": [
    "## EP：\n",
    "- 将 “Welcome” “to” \"Python\" 拼接\n",
    "- 将int型 100 与 “joker is a bad man” 拼接\n",
    "- 从控制台读取字符串\n",
    "> 输入一个名字返回夸奖此人"
   ]
  },
  {
   "cell_type": "code",
   "execution_count": 56,
   "metadata": {},
   "outputs": [
    {
     "data": {
      "text/plain": [
       "'Welcome to Python'"
      ]
     },
     "execution_count": 56,
     "metadata": {},
     "output_type": "execute_result"
    }
   ],
   "source": [
    "'Welcome ' + 'to ' + 'Python'"
   ]
  },
  {
   "cell_type": "code",
   "execution_count": 55,
   "metadata": {},
   "outputs": [
    {
     "data": {
      "text/plain": [
       "'100adjakld'"
      ]
     },
     "execution_count": 55,
     "metadata": {},
     "output_type": "execute_result"
    }
   ],
   "source": [
    "str(100) + 'adjakld'"
   ]
  },
  {
   "cell_type": "code",
   "execution_count": 59,
   "metadata": {},
   "outputs": [
    {
     "name": "stdout",
     "output_type": "stream",
     "text": [
      "a\n",
      "a good gob\n"
     ]
    }
   ],
   "source": [
    "name = input()\n",
    "aa = ' good gob'\n",
    "print(name + aa)"
   ]
  },
  {
   "cell_type": "markdown",
   "metadata": {},
   "source": [
    "## 实例研究：最小数量硬币\n",
    "- 开发一个程序，让用户输入总金额，这是一个用美元和美分表示的浮点值，返回一个由美元、两角五分的硬币、一角的硬币、五分硬币、以及美分个数\n",
    "<img src=\"../Photo/22.png\"></img>"
   ]
  },
  {
   "cell_type": "markdown",
   "metadata": {},
   "source": [
    "- Python弱项，对于浮点型的处理并不是很好，但是处理数据的时候使用的是Numpy类型\n",
    "<img src=\"../Photo/23.png\"></img>"
   ]
  },
  {
   "cell_type": "code",
   "execution_count": null,
   "metadata": {},
   "outputs": [],
   "source": []
  },
  {
   "cell_type": "markdown",
   "metadata": {},
   "source": [
    "## id与type\n",
    "- id 查看内存地址，在判断语句中将会使用\n",
    "- type 查看元素类型"
   ]
  },
  {
   "cell_type": "markdown",
   "metadata": {},
   "source": [
    "## 其他格式化语句见书"
   ]
  },
  {
   "cell_type": "markdown",
   "metadata": {},
   "source": [
    "# Homework\n",
    "- 1\n",
    "<img src=\"../Photo/24.png\"><img>\n",
    "<img src=\"../Photo/25.png\"><img>"
   ]
  },
  {
   "cell_type": "code",
   "execution_count": 61,
   "metadata": {},
   "outputs": [
    {
     "name": "stdout",
     "output_type": "stream",
     "text": [
      "5.5\n",
      "71.9087467008018\n"
     ]
    }
   ],
   "source": [
    "import math\n",
    "PI = 3.14\n",
    "bianchang = eval(input())\n",
    "s = 2*bianchang*(math.sin(PI/5))\n",
    "Area = 5*s*s/(4*math.tan(PI/5))\n",
    "print(Area)"
   ]
  },
  {
   "cell_type": "markdown",
   "metadata": {},
   "source": [
    "- 2\n",
    "<img src=\"../Photo/26.png\"><img>"
   ]
  },
  {
   "cell_type": "code",
   "execution_count": 56,
   "metadata": {},
   "outputs": [
    {
     "name": "stdout",
     "output_type": "stream",
     "text": [
      "39.55,-116.25\n",
      "41.5,87.37\n",
      "3716.6320959555283\n"
     ]
    }
   ],
   "source": [
    "import math\n",
    "x1,y1 = eval(input())\n",
    "x1,y1 = math.radians(x1),math.radians(y1)\n",
    "x2,y2 = eval(input())\n",
    "x2,y2 = math.radians(x2),math.radians(y2)\n",
    "radius = 6371.01\n",
    "d= radius * (math.acos((math.sin(x1)))*(math.sin(x2)) + (math.cos(x1))*(math.cos(x2))*(math.cos(y1-y2))\n",
    "print(d)"
   ]
  },
  {
   "cell_type": "markdown",
   "metadata": {},
   "source": [
    "- 3\n",
    "<img src=\"../Photo/27.png\"><img>"
   ]
  },
  {
   "cell_type": "code",
   "execution_count": 15,
   "metadata": {},
   "outputs": [
    {
     "name": "stdout",
     "output_type": "stream",
     "text": [
      "5.5\n",
      "52.04444254084891\n"
     ]
    }
   ],
   "source": [
    "import math\n",
    "s = eval(input())\n",
    "pi = 3.1415926\n",
    "Area = (5*(s*s))/(4*(math.tan(pi/5)))\n",
    "print(Area)"
   ]
  },
  {
   "cell_type": "markdown",
   "metadata": {},
   "source": [
    "- 4\n",
    "<img src=\"../Photo/28.png\"><img>"
   ]
  },
  {
   "cell_type": "code",
   "execution_count": 18,
   "metadata": {},
   "outputs": [
    {
     "name": "stdout",
     "output_type": "stream",
     "text": [
      "bianshu5\n",
      "bianchang6.5\n",
      "72.73888275532752\n"
     ]
    }
   ],
   "source": [
    "import math\n",
    "pi = 3.14\n",
    "n = eval(input('bianshu'))\n",
    "s = eval(input('bianchang'))\n",
    "Area=(n*s*s)/(4*(math.tan(pi/n)))\n",
    "print(Area)"
   ]
  },
  {
   "cell_type": "markdown",
   "metadata": {},
   "source": [
    "- 5\n",
    "<img src=\"../Photo/29.png\"><img>\n",
    "<img src=\"../Photo/30.png\"><img>"
   ]
  },
  {
   "cell_type": "code",
   "execution_count": 94,
   "metadata": {},
   "outputs": [
    {
     "name": "stdout",
     "output_type": "stream",
     "text": [
      "69\n",
      "E\n"
     ]
    }
   ],
   "source": [
    "sum = eval(input(''))\n",
    "a = chr(sum)\n",
    "print(a)"
   ]
  },
  {
   "cell_type": "markdown",
   "metadata": {},
   "source": [
    "- 6\n",
    "<img src=\"../Photo/31.png\"><img>"
   ]
  },
  {
   "cell_type": "code",
   "execution_count": 57,
   "metadata": {},
   "outputs": [
    {
     "name": "stdout",
     "output_type": "stream",
     "text": [
      "姓名Smith\n",
      "工作时间10\n",
      "每小时报酬9.75\n",
      "联邦扣税0.2\n",
      "州扣税0.09\n",
      "Smith\n",
      "10\n",
      "9.75\n",
      "97.5\n",
      "19.5\n",
      "8.775\n",
      "69.225\n"
     ]
    }
   ],
   "source": [
    "name = input('姓名')\n",
    "work = eval(input('工作时间'))\n",
    "pay = eval(input('每小时报酬'))\n",
    "fed = eval(input('联邦扣税'))\n",
    "state = eval(input('州扣税'))\n",
    "payrate = work * pay\n",
    "fedrate = payrate * fed\n",
    "staterate = payrate * state\n",
    "netpay= payrate - fedrate - staterate\n",
    "print(name)\n",
    "print(work)\n",
    "print(pay)\n",
    "print(payrate)\n",
    "print(fedrate)\n",
    "print(staterate)\n",
    "print(netpay)"
   ]
  },
  {
   "cell_type": "markdown",
   "metadata": {},
   "source": [
    "- 7\n",
    "<img src=\"../Photo/32.png\"><img>"
   ]
  },
  {
   "cell_type": "code",
   "execution_count": 55,
   "metadata": {},
   "outputs": [
    {
     "name": "stdout",
     "output_type": "stream",
     "text": [
      "四位数3125\n",
      "5213\n"
     ]
    }
   ],
   "source": [
    "sum = eval(input('四位数'))\n",
    "a = sum // 1000\n",
    "b = (sum // 100) % 10\n",
    "c = (sum // 10) % 10\n",
    "d = sum % 10\n",
    "print(d,c,b,a,sep='')"
   ]
  },
  {
   "cell_type": "markdown",
   "metadata": {},
   "source": [
    "- 8 进阶：\n",
    "> 加密一串文本，并将解密后的文件写入本地保存"
   ]
  },
  {
   "cell_type": "code",
   "execution_count": 2,
   "metadata": {},
   "outputs": [
    {
     "name": "stdout",
     "output_type": "stream",
     "text": [
      "678v|j\n"
     ]
    }
   ],
   "source": [
    "mm = '123qwe'\n",
    "result = ''\n",
    "for i in mm:\n",
    "    result = result + chr(ord(i) + 5)\n",
    "    \n",
    "print(result)"
   ]
  }
 ],
 "metadata": {
  "kernelspec": {
   "display_name": "Python 3",
   "language": "python",
   "name": "python3"
  }
 },
 "nbformat": 4,
 "nbformat_minor": 2
}
