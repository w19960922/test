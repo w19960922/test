{
 "cells": [
  {
   "cell_type": "markdown",
   "metadata": {},
   "source": [
    "# 函数\n",
    "\n",
    "- 函数可以用来定义可重复代码，组织和简化\n",
    "- 一般来说一个函数在实际开发中为一个小功能\n",
    "- 一个类为一个大功能\n",
    "- 同样函数的长度不要超过一屏"
   ]
  },
  {
   "cell_type": "markdown",
   "metadata": {},
   "source": [
    "## 定义一个函数\n",
    "\n",
    "def function_name(list of parameters):\n",
    "    \n",
    "    do something\n",
    "![](../Photo/69.png)\n",
    "- 以前使用的random 或者range 或者print.. 其实都是函数或者类"
   ]
  },
  {
   "cell_type": "code",
   "execution_count": 2,
   "metadata": {},
   "outputs": [],
   "source": [
    "def fun_name():\n",
    "    print('我真帅！！！')"
   ]
  },
  {
   "cell_type": "code",
   "execution_count": 3,
   "metadata": {},
   "outputs": [
    {
     "name": "stdout",
     "output_type": "stream",
     "text": [
      "我真帅！！！\n"
     ]
    }
   ],
   "source": [
    "fun_name()"
   ]
  },
  {
   "cell_type": "code",
   "execution_count": 11,
   "metadata": {},
   "outputs": [],
   "source": [
    "def fun_pd():\n",
    "    '''\n",
    "    判断奇数，偶数\n",
    "    '''\n",
    "    a = eval(input())\n",
    "    if a %2 ==0:\n",
    "        print(a,'ou')\n",
    "    else:\n",
    "        print(a,'ji')"
   ]
  },
  {
   "cell_type": "code",
   "execution_count": 12,
   "metadata": {},
   "outputs": [
    {
     "name": "stdout",
     "output_type": "stream",
     "text": [
      "8\n",
      "8 ou\n"
     ]
    }
   ],
   "source": [
    "fun_pd()"
   ]
  },
  {
   "cell_type": "code",
   "execution_count": 53,
   "metadata": {},
   "outputs": [],
   "source": [
    "def fun_sushu():\n",
    "    for i in range(2,51):\n",
    "        for j in range(2,i):\n",
    "            if i %j ==0:\n",
    "                break\n",
    "        else:\n",
    "            print(i)"
   ]
  },
  {
   "cell_type": "code",
   "execution_count": 54,
   "metadata": {},
   "outputs": [
    {
     "name": "stdout",
     "output_type": "stream",
     "text": [
      "2\n",
      "3\n",
      "5\n",
      "7\n",
      "11\n",
      "13\n",
      "17\n",
      "19\n",
      "23\n",
      "29\n",
      "31\n",
      "37\n",
      "41\n",
      "43\n",
      "47\n"
     ]
    }
   ],
   "source": [
    "fun_sushu()"
   ]
  },
  {
   "cell_type": "markdown",
   "metadata": {},
   "source": [
    "## 调用一个函数\n",
    "- functionName()\n",
    "- \"()\" 就代表调用"
   ]
  },
  {
   "cell_type": "markdown",
   "metadata": {},
   "source": [
    "![](../Photo/70.png)"
   ]
  },
  {
   "cell_type": "markdown",
   "metadata": {},
   "source": [
    "## 带返回值和不带返回值的函数\n",
    "- return 返回的内容\n",
    "- return 返回多个值\n",
    "- 一般情况下，在多个函数协同完成一个功能的时候，那么将会有返回值"
   ]
  },
  {
   "cell_type": "markdown",
   "metadata": {},
   "source": [
    "![](../Photo/71.png)\n",
    "\n",
    "- 当然也可以自定义返回None"
   ]
  },
  {
   "cell_type": "code",
   "execution_count": 18,
   "metadata": {},
   "outputs": [],
   "source": [
    "def fun_pf(x):\n",
    "    return x**2"
   ]
  },
  {
   "cell_type": "code",
   "execution_count": 19,
   "metadata": {},
   "outputs": [
    {
     "name": "stdout",
     "output_type": "stream",
     "text": [
      "9\n"
     ]
    }
   ],
   "source": [
    "fun_pf_=fun_pf(3)\n",
    "print(fun_pf_)"
   ]
  },
  {
   "cell_type": "code",
   "execution_count": null,
   "metadata": {},
   "outputs": [],
   "source": []
  },
  {
   "cell_type": "code",
   "execution_count": 20,
   "metadata": {},
   "outputs": [],
   "source": [
    "def lf(a):\n",
    "    return a**3\n",
    "def pff(a):\n",
    "    return a**2\n",
    "def input_():\n",
    "    a= eval(input())\n",
    "    res3 = lf(a)\n",
    "    res2 = pff(a)\n",
    "    print(res3-res2)"
   ]
  },
  {
   "cell_type": "code",
   "execution_count": null,
   "metadata": {},
   "outputs": [],
   "source": [
    "input_()"
   ]
  },
  {
   "cell_type": "markdown",
   "metadata": {},
   "source": [
    "## EP：\n",
    "![](../Photo/72.png)"
   ]
  },
  {
   "cell_type": "markdown",
   "metadata": {},
   "source": [
    "## 类型和关键字参数\n",
    "- 普通参数\n",
    "- 多个参数\n",
    "- 默认值参数\n",
    "- 不定长参数"
   ]
  },
  {
   "cell_type": "markdown",
   "metadata": {},
   "source": [
    "## 普通参数"
   ]
  },
  {
   "cell_type": "markdown",
   "metadata": {},
   "source": [
    "## 多个参数"
   ]
  },
  {
   "cell_type": "code",
   "execution_count": 4,
   "metadata": {},
   "outputs": [],
   "source": [
    "acount='1'\n",
    "password='1'\n",
    "is_ok= False"
   ]
  },
  {
   "cell_type": "code",
   "execution_count": 5,
   "metadata": {},
   "outputs": [],
   "source": [
    "def login(zh,mm):\n",
    "    if (zh==acount and mm==password):\n",
    "        print('登录成功')\n",
    "    else:\n",
    "        print('账号或密码错误')\n",
    "    "
   ]
  },
  {
   "cell_type": "code",
   "execution_count": null,
   "metadata": {},
   "outputs": [],
   "source": []
  },
  {
   "cell_type": "code",
   "execution_count": 40,
   "metadata": {},
   "outputs": [
    {
     "name": "stdout",
     "output_type": "stream",
     "text": [
      "登录成功\n"
     ]
    }
   ],
   "source": [
    "login(zh='1',mm='1')"
   ]
  },
  {
   "cell_type": "code",
   "execution_count": 6,
   "metadata": {},
   "outputs": [],
   "source": [
    "def kaishi():\n",
    "    global is_ok\n",
    "    if is_ok==False:\n",
    "        print('是否七天内免登陆？y/n')\n",
    "        res = input()\n",
    "        zh = input('请输入账号')\n",
    "        mm = input('请输入密码')\n",
    "        if res == 'y':\n",
    "            login(zh,mm)\n",
    "            is_ok= True\n",
    "        else:\n",
    "            login(zh,mm)\n",
    "    else:\n",
    "        print('登录成功')"
   ]
  },
  {
   "cell_type": "code",
   "execution_count": 12,
   "metadata": {},
   "outputs": [
    {
     "name": "stdout",
     "output_type": "stream",
     "text": [
      "登录成功\n"
     ]
    }
   ],
   "source": [
    "kaishi()"
   ]
  },
  {
   "cell_type": "markdown",
   "metadata": {},
   "source": [
    "## 默认值参数"
   ]
  },
  {
   "cell_type": "markdown",
   "metadata": {},
   "source": [
    "## 强制命名"
   ]
  },
  {
   "cell_type": "markdown",
   "metadata": {},
   "source": [
    "## 不定长参数\n",
    "- \\*args\n",
    "> - 不定长，来多少装多少，不装也是可以的\n",
    "  - 返回的数据类型是元组\n",
    "  - args 名字是可以修改的，只是我们约定俗成的是args\n",
    "- \\**kwargs \n",
    "> - 返回的字典\n",
    "  - 输入的一定要是表达式（键值对）\n",
    "- name,\\*args,name2,\\**kwargs  使用参数名"
   ]
  },
  {
   "cell_type": "markdown",
   "metadata": {},
   "source": [
    "## 变量的作用域\n",
    "- 局部变量 local\n",
    "- 全局变量 global\n",
    "- globals 函数返回一个全局变量的字典，包括所有导入的变量\n",
    "- locals() 函数会以字典类型返回当前位置的全部局部变量。"
   ]
  },
  {
   "cell_type": "markdown",
   "metadata": {},
   "source": [
    "## 注意：\n",
    "- global ：在进行赋值操作的时候需要声明\n",
    "- 官方解释：This is because when you make an assignment to a variable in a scope, that variable becomes local to that scope and shadows any similarly named variable in the outer scope.\n",
    "- ![](../Photo/73.png)"
   ]
  },
  {
   "cell_type": "markdown",
   "metadata": {},
   "source": [
    "# Homework\n",
    "- 1\n",
    "![](../Photo/74.png)"
   ]
  },
  {
   "cell_type": "code",
   "execution_count": 160,
   "metadata": {},
   "outputs": [],
   "source": [
    "def getPentagonalNumber():\n",
    "    count=0\n",
    "    for n in range(1,101):        \n",
    "        s=n*(3*n-1)//2\n",
    "        print(s,'\\t',end=' ')\n",
    "        count = count + 1\n",
    "        if count % 10 == 0:\n",
    "            print(' ')\n",
    "            "
   ]
  },
  {
   "cell_type": "code",
   "execution_count": 161,
   "metadata": {},
   "outputs": [
    {
     "name": "stdout",
     "output_type": "stream",
     "text": [
      "1 \t 5 \t 12 \t 22 \t 35 \t 51 \t 70 \t 92 \t 117 \t 145 \t  \n",
      "176 \t 210 \t 247 \t 287 \t 330 \t 376 \t 425 \t 477 \t 532 \t 590 \t  \n",
      "651 \t 715 \t 782 \t 852 \t 925 \t 1001 \t 1080 \t 1162 \t 1247 \t 1335 \t  \n",
      "1426 \t 1520 \t 1617 \t 1717 \t 1820 \t 1926 \t 2035 \t 2147 \t 2262 \t 2380 \t  \n",
      "2501 \t 2625 \t 2752 \t 2882 \t 3015 \t 3151 \t 3290 \t 3432 \t 3577 \t 3725 \t  \n",
      "3876 \t 4030 \t 4187 \t 4347 \t 4510 \t 4676 \t 4845 \t 5017 \t 5192 \t 5370 \t  \n",
      "5551 \t 5735 \t 5922 \t 6112 \t 6305 \t 6501 \t 6700 \t 6902 \t 7107 \t 7315 \t  \n",
      "7526 \t 7740 \t 7957 \t 8177 \t 8400 \t 8626 \t 8855 \t 9087 \t 9322 \t 9560 \t  \n",
      "9801 \t 10045 \t 10292 \t 10542 \t 10795 \t 11051 \t 11310 \t 11572 \t 11837 \t 12105 \t  \n",
      "12376 \t 12650 \t 12927 \t 13207 \t 13490 \t 13776 \t 14065 \t 14357 \t 14652 \t 14950 \t  \n"
     ]
    }
   ],
   "source": [
    "getPentagonalNumber()"
   ]
  },
  {
   "cell_type": "markdown",
   "metadata": {},
   "source": [
    "- 2 \n",
    "![](../Photo/75.png)"
   ]
  },
  {
   "cell_type": "code",
   "execution_count": null,
   "metadata": {},
   "outputs": [],
   "source": [
    "a=eval(input())\n",
    "if a%10!=0:\n",
    "    b=a%10"
   ]
  },
  {
   "cell_type": "markdown",
   "metadata": {},
   "source": [
    "- 3\n",
    "![](../Photo/76.png)"
   ]
  },
  {
   "cell_type": "code",
   "execution_count": 24,
   "metadata": {},
   "outputs": [],
   "source": [
    "def displaySortedNumbers(num1,num2,num3):\n",
    "    num1,num2,num3=eval(input())\n",
    "    max_=max(num1,num2,num3)\n",
    "    min_=min(num1,num2,num3)\n",
    "    zhong=num1+num2+num3-max_-min_\n",
    "    print(min_,zhong,max_)"
   ]
  },
  {
   "cell_type": "code",
   "execution_count": 25,
   "metadata": {},
   "outputs": [
    {
     "name": "stdout",
     "output_type": "stream",
     "text": [
      "5,88,9\n",
      "5 9 88\n"
     ]
    }
   ],
   "source": [
    "displaySortedNumbers('num1','num2','num3')"
   ]
  },
  {
   "cell_type": "markdown",
   "metadata": {},
   "source": [
    "- 4\n",
    "![](../Photo/77.png)"
   ]
  },
  {
   "cell_type": "code",
   "execution_count": 68,
   "metadata": {},
   "outputs": [],
   "source": [
    "def futureInvestmentValue(investmentAmount,mouthlyInterestRate,years):\n",
    "    qian=eval(input())\n",
    "    ll=(eval(input()))\n",
    "    value=0\n",
    "    for i in range(1,31):\n",
    "        value = qian*((1+(ll/(12*100)))**(i*12))\n",
    "        print(i,round(value,2))"
   ]
  },
  {
   "cell_type": "code",
   "execution_count": 69,
   "metadata": {},
   "outputs": [
    {
     "name": "stdout",
     "output_type": "stream",
     "text": [
      "1000\n",
      "9\n",
      "1 1093.81\n",
      "2 1196.41\n",
      "3 1308.65\n",
      "4 1431.41\n",
      "5 1565.68\n",
      "6 1712.55\n",
      "7 1873.2\n",
      "8 2048.92\n",
      "9 2241.12\n",
      "10 2451.36\n",
      "11 2681.31\n",
      "12 2932.84\n",
      "13 3207.96\n",
      "14 3508.89\n",
      "15 3838.04\n",
      "16 4198.08\n",
      "17 4591.89\n",
      "18 5022.64\n",
      "19 5493.8\n",
      "20 6009.15\n",
      "21 6572.85\n",
      "22 7189.43\n",
      "23 7863.85\n",
      "24 8601.53\n",
      "25 9408.41\n",
      "26 10290.99\n",
      "27 11256.35\n",
      "28 12312.28\n",
      "29 13467.25\n",
      "30 14730.58\n"
     ]
    }
   ],
   "source": [
    "futureInvestmentValue('investmentAmount','mouthlyInterestRate','years')"
   ]
  },
  {
   "cell_type": "markdown",
   "metadata": {},
   "source": [
    "- 5\n",
    "![](../Photo/78.png)"
   ]
  },
  {
   "cell_type": "code",
   "execution_count": 105,
   "metadata": {},
   "outputs": [],
   "source": [
    "def printChars(ch1,ch2,numberPerLine):\n",
    "    ch1 = input()\n",
    "    ch2 = input()\n",
    "    numberPerLine=eval(input())\n",
    "    aa=ord(ch1)\n",
    "    bb=ord(ch2)\n",
    "    count=0\n",
    "    for i in range(aa,bb+1):\n",
    "        count +=1\n",
    "        print(chr(i),end=' ')\n",
    "        if (count%10==0):\n",
    "            print()"
   ]
  },
  {
   "cell_type": "code",
   "execution_count": 106,
   "metadata": {},
   "outputs": [
    {
     "name": "stdout",
     "output_type": "stream",
     "text": [
      "1\n",
      "Z\n",
      "10\n",
      "1 2 3 4 5 6 7 8 9 : \n",
      "; < = > ? @ A B C D \n",
      "E F G H I J K L M N \n",
      "O P Q R S T U V W X \n",
      "Y Z "
     ]
    }
   ],
   "source": [
    "printChars('ch1','ch2','numberPerLin')"
   ]
  },
  {
   "cell_type": "markdown",
   "metadata": {},
   "source": [
    "- 6\n",
    "![](../Photo/79.png)"
   ]
  },
  {
   "cell_type": "code",
   "execution_count": 116,
   "metadata": {},
   "outputs": [],
   "source": [
    "def numberOfDaysInAYear(year):\n",
    "    for year in range(2010,2021):\n",
    "        \n",
    "        if (year % 400==0) or (year%4==0 and year%100!=0):\n",
    "            print(year,'366天')\n",
    "        else:\n",
    "            print(year,'365天')"
   ]
  },
  {
   "cell_type": "code",
   "execution_count": 117,
   "metadata": {},
   "outputs": [
    {
     "name": "stdout",
     "output_type": "stream",
     "text": [
      "2010 365天\n",
      "2011 365天\n",
      "2012 366天\n",
      "2013 365天\n",
      "2014 365天\n",
      "2015 365天\n",
      "2016 366天\n",
      "2017 365天\n",
      "2018 365天\n",
      "2019 365天\n",
      "2020 366天\n"
     ]
    }
   ],
   "source": [
    "numberOfDaysInAYear('year')"
   ]
  },
  {
   "cell_type": "markdown",
   "metadata": {},
   "source": [
    "- 7\n",
    "![](../Photo/80.png)"
   ]
  },
  {
   "cell_type": "code",
   "execution_count": 126,
   "metadata": {},
   "outputs": [],
   "source": [
    "def distance(x1,y1,x2,y2):\n",
    "    a=((x1-x2)*(x1-x2)+(((y1-y2)**2)))**0.5\n",
    "    print(a)\n",
    "    "
   ]
  },
  {
   "cell_type": "code",
   "execution_count": 127,
   "metadata": {},
   "outputs": [
    {
     "name": "stdout",
     "output_type": "stream",
     "text": [
      "8.764131445842194\n"
     ]
    }
   ],
   "source": [
    "distance(1.5,-3.4,4,5)"
   ]
  },
  {
   "cell_type": "markdown",
   "metadata": {},
   "source": [
    "- 8\n",
    "![](../Photo/81.png)"
   ]
  },
  {
   "cell_type": "code",
   "execution_count": 7,
   "metadata": {},
   "outputs": [
    {
     "name": "stdout",
     "output_type": "stream",
     "text": [
      "3.0\n",
      "7.0\n",
      "31.0\n",
      "127.0\n",
      "2047.0\n",
      "8191.0\n",
      "131071.0\n",
      "524287.0\n",
      "8388607.0\n",
      "536870911.0\n",
      "2147483647.0\n"
     ]
    }
   ],
   "source": [
    "import math\n",
    "for i in range(2,32):\n",
    "    for j in range(2,i):\n",
    "        if i %j ==0:\n",
    "            break\n",
    "    else:\n",
    "        p=math.pow(2,i)-1\n",
    "        print(p)\n"
   ]
  },
  {
   "cell_type": "markdown",
   "metadata": {},
   "source": [
    "- 9\n",
    "![](../Photo/82.png)\n",
    "![](../Photo/83.png)"
   ]
  },
  {
   "cell_type": "markdown",
   "metadata": {},
   "source": [
    "- 10\n",
    "![](../Photo/84.png)"
   ]
  },
  {
   "cell_type": "markdown",
   "metadata": {},
   "source": [
    "- 11 \n",
    "### 去网上寻找如何用Python代码发送邮件"
   ]
  }
 ],
 "metadata": {
  "kernelspec": {
   "display_name": "Python 3",
   "language": "python",
   "name": "python3"
  }
 },
 "nbformat": 4,
 "nbformat_minor": 2
}
